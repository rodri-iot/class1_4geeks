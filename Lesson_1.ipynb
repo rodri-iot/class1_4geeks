{
  "cells": [
    {
      "cell_type": "markdown",
      "metadata": {
        "id": "rVPD_tdq6sfi"
      },
      "source": [
        "### **Section 1**. Data and Data Science Concepts\n",
        "#### **What is Data?**\n",
        "In common usage, data is a collection of discrete or continuous values\n",
        "that convey information, describing the quantity, quality, fact,\n",
        "statistics, other basic units of meaning, or simply sequences of symbols\n",
        "that may be further interpreted formally.\n",
        "Data are usually organized into structures such as tables that provide\n",
        "additional context and meaning, and may themselves be used as data in\n",
        "larger structures [1]\n",
        "\n",
        "#### **What is Data Science?**\n",
        "Data science is an interdisciplinary academic field that uses statistics,\n",
        "scientific computing, scientific methods, processes, scientific\n",
        "visualization, algorithms and systems to extract or extrapolate\n",
        "knowledge and insights from potentially noisy, structured, or\n",
        "unstructured data.\n",
        "\n",
        "As such, data science is \"a concept to unify statistics, data analysis,\n",
        "informatics, and their related methods\" to \"understand and analyze actual\n",
        "phenomena\" with data. [2]\n",
        "\n",
        "#### **What is the difference between Data Science and Data Analysis?**\n",
        "While both fields involve working with data, data science is more of an\n",
        "interdisciplinary field that involves the application of statistical,\n",
        "computational, and machine learning methods to extract insights from data\n",
        "and make predictions, while data analysis is more focused on the\n",
        "examination and interpretation of data to identify patterns and trends. [3]\n",
        "\n",
        "#### **What is machine learning?**\n",
        "Machine learning (ML) is a field of study in artificial intelligence\n",
        "concerned with the development and study of statistical algorithms that\n",
        "can learn from data and generalize to unseen data and thus perform tasks\n",
        "without explicit instructions. Recently, artificial neural networks have\n",
        "been able to surpass many previous approaches in performance. [4]"
      ]
    },
    {
      "cell_type": "markdown",
      "metadata": {
        "id": "96G_dMqc6sfm"
      },
      "source": [
        "### **Section 2:** A live case\n",
        "#### **Welcome to Geekos, a Data Science Factory**\n",
        "You are our brand member of Geekos, a company that provides services in Data Science to other companies, in different industries like Automotive, Food&Goods, Healthcare, Manufacturing, Government and others. As a startup, Geekos has recently been founded by Barias Lesdies, our visionary leader, who has tasked us to run the solutions factory while another team is in charge of commercial operations.\n",
        "\n",
        "Barias thinks that we can provide a solution for each task assigned, given our background and skills. The mision for the company is \"To serve companies by extracting actionable insights from their data in an automated way, using the latest technology in AI\". The vision, as told by Barias, is to convert this local company into a multinational referent for every data science need.\n",
        "\n",
        "Since this company is being created from the ground up, we need some information about the team. A organigram with functions and a methodology will set a clear path for all the member of the team.\n",
        "\n",
        "Our mantra is: \"learn, experiment, test and explain is like breathing the air... it's a thing of every day!\"\n",
        "\n",
        "We respect the fact that much of the knowledge on data science is written by other authors, so each time we quote a book, webpage, podcast, blog or whatever media you found, we clearly give the reference and citations.   \n",
        "\n",
        "Again, thank you for being part of Geekos and let's have a good run. It's time for tell who are we!"
      ]
    },
    {
      "cell_type": "markdown",
      "metadata": {
        "id": "JK8D59x86sfm"
      },
      "source": [
        "### **Section 3:** A common toolset\n",
        "The following toolset is required for every member of Geekos. We don't expect you to master all the tools right now, but with time, you are going to use them with ease.\n",
        "#### **Python**\n",
        "Python is a high-level, general-purpose programming language. Its design philosophy emphasizes code readability with the use of significant indentation.\n",
        "\n",
        "Python is dynamically typed and garbage-collected. It supports multiple programming paradigms, including structured (particularly procedural), object-oriented and functional programming. It is often described as a \"batteries included\" language due to its comprehensive standard library. [5]\n",
        "#### **Bash shell**\n",
        "In computing, a shell is a computer program that exposes an operating system's services to a human user or other programs. In general, operating system shells use either a command-line interface (CLI) or graphical user interface (GUI), depending on a computer's role and particular operation. It is named a shell because it is the outermost layer around the operating system. [6]\n",
        "#### **Git & Github**\n",
        "Git is a distributed version control system that tracks versions of files. It is often used to control source code by programmers collaboratively developing software. Design goals of Git include speed, data integrity, and support for distributed, non-linear workflows — thousands of parallel branches running on different computers. [7]\n",
        "\n",
        "GitHub is a developer platform that allows developers to create, store, manage and share their code. It uses Git software. [8]\n",
        "#### **Docker**\n",
        "Docker is a set of platform as a service (PaaS) products that use OS-level virtualization to deliver software in packages called containers. The service has both free and premium tiers. The software that hosts the containers is called Docker Engine.\n",
        "\n",
        "Docker is a tool that is used to automate the deployment of applications in lightweight containers so that applications can work efficiently in different environments in isolation. [9]\n",
        "#### **VSCode**\n",
        "Visual Studio Code, also commonly referred to as VSCode, is a source-code editor developed by Microsoft for Windows, Linux, macOS and web browsers.Features include support for debugging, syntax highlighting, intelligent code completion, snippets, code refactoring, and embedded version control with Git. [10]"
      ]
    },
    {
      "cell_type": "markdown",
      "metadata": {
        "id": "aG0fi2e56sfn"
      },
      "source": [
        "### References\n",
        "[1] Wikipedia. (7 de Agosto del 2023). *Data*, descargado de https://en.wikipedia.org/wiki/Data  \n",
        "[2] Wikipedia. (8 de Agosto del 2023). *Data Science*, descargado de https://en.wikipedia.org/wiki/Data_science  \n",
        "[3] Provost, Foster; Tom Fawcett. (1 August 2013). *\"Data Science for Business: What You Need to Know about Data Mining and Data-Analytic Thinking*\". O'Reilly Media, Inc.  \n",
        "[4] Wikipedia. (8 de Agosto del 2023). *Machine Learning*, descargado de https://en.wikipedia.org/wiki/Machine_learning  \n",
        "[5] Wikipedia. (8 de Agosto del 2023). *Python*, descargado de https://en.wikipedia.org/wiki/Python_(programming_language)  \n",
        "[6] Wikipedia. (7 de Agosto del 2023). *Shell*, descargado de https://en.wikipedia.org/wiki/Shell_(computing)  \n",
        "[7] Wikipedia. (8 de Agosto del 2023). *Git*, descargado de https://en.wikipedia.org/wiki/Git  \n",
        "[8] Wikipedia. (8 de Agosto del 2023). *GitHub*, descargado de https://en.wikipedia.org/wiki/GitHub  \n",
        "[9] Wikipedia. (8 de Agosto del 2023). *Docker (software)*, descargado de https://en.wikipedia.org/wiki/Docker_(software)  \n",
        "[10] Wikipedia. (8 de Agosto del 2023). *Visual Studio Code*, descargado de https://en.wikipedia.org/wiki/Visual_Studio_Code"
      ]
    }
  ],
  "metadata": {
    "language_info": {
      "name": "python"
    },
    "colab": {
      "provenance": []
    }
  },
  "nbformat": 4,
  "nbformat_minor": 0
}