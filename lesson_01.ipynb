{
 "cells": [
  {
   "cell_type": "markdown",
   "metadata": {},
   "source": [
    "### Tipo de datos / Datatypes"
   ]
  },
  {
   "cell_type": "code",
   "execution_count": null,
   "metadata": {},
   "outputs": [],
   "source": [
    "contador = 3\n",
    "numero_pi = 3.14159\n",
    "cadena = \"python es lo máximo\"\n",
    "flag = True"
   ]
  },
  {
   "cell_type": "markdown",
   "metadata": {},
   "source": [
    "### Tipo de datos con typing / Datatypes with typing"
   ]
  },
  {
   "cell_type": "code",
   "execution_count": null,
   "metadata": {},
   "outputs": [],
   "source": [
    "contador: int = 3\n",
    "numero_pi: float = 3.14159\n",
    "cadena: str = \"python es lo máximo\"\n",
    "flag: bool = True"
   ]
  },
  {
   "cell_type": "markdown",
   "metadata": {},
   "source": [
    "### Operadores "
   ]
  },
  {
   "cell_type": "code",
   "execution_count": 3,
   "metadata": {},
   "outputs": [
    {
     "name": "stdout",
     "output_type": "stream",
     "text": [
      "6\n",
      "80\n",
      "8.0\n",
      "3.5\n",
      "1\n",
      "4\n"
     ]
    }
   ],
   "source": [
    "print(3+3) #suma\n",
    "print(10*8) #multiplicación\n",
    "print(24/3) #división\n",
    "print(10.9-7.4) #resta\n",
    "print(9%2) #modulo\n",
    "print(9//2) #división entera"
   ]
  },
  {
   "cell_type": "markdown",
   "metadata": {},
   "source": [
    "### Colecciones / Collection"
   ]
  },
  {
   "cell_type": "code",
   "execution_count": 6,
   "metadata": {},
   "outputs": [],
   "source": [
    "#Collections\n",
    "\n",
    "my_list = [1,2,3,4] #lista. Es una colección ordenada y mutable\n",
    "my_tuple = ('Fish','Chips') #tupla. Es una colección ordenada NO mutable\n",
    "my_set = {'a', 'b', 'c'} #set. Es una colección no ordenada, mutable solo cuando se ingresa o saca valores, sin repeticiones\n",
    "my_dict = {'Name': 'Petter', 'Last_name': 'Smith'} #diccionario. Es una colección llave valor, es ordenada y mutable"
   ]
  },
  {
   "cell_type": "code",
   "execution_count": 14,
   "metadata": {},
   "outputs": [
    {
     "data": {
      "text/plain": [
       "'Smith'"
      ]
     },
     "execution_count": 14,
     "metadata": {},
     "output_type": "execute_result"
    }
   ],
   "source": [
    "my_list[3]\n",
    "my_list[3] = 5\n",
    "my_list\n",
    "\n",
    "#my_tuple[1] = \"Bacon\"\n",
    "# Esto genera un error porque las Tuplas no son mutables.\n",
    "\n",
    "#my_set[2]\n",
    "#Esto genera un error porque el set es una colección NO ordenada\n",
    "my_set2 = {'a', 'a', 'b', 'c'}\n",
    "my_set2\n",
    "#Cuando se trate de un set Python solo muestra valores no repetidos\n",
    "\n",
    "my_dict['Last_name']\n",
    "#Se llama al valor del diccionario correspondiente a la llave 'Last_name'\n",
    "#No se puede repetir llaves\n"
   ]
  },
  {
   "cell_type": "markdown",
   "metadata": {},
   "source": [
    "### Las tres estructuras de control\n",
    "Teorema de Bohm Jacopini, indica que las tres estructuras de control utilizando:\n",
    "- Sequence / Secuencia\n",
    "- Selection / Selección\n",
    "- Iteration / Iteración"
   ]
  },
  {
   "cell_type": "code",
   "execution_count": null,
   "metadata": {},
   "outputs": [],
   "source": [
    "#Sequence\n",
    "my_list[3]\n",
    "my_list[3] = 5\n",
    "my_list\n",
    "\n",
    "#Selection\n",
    "if 10 < 4:\n",
    "    print(\"10 es menor\")\n",
    "else:\n",
    "    print(\"4 es mayor\")\n",
    "\n",
    "score_team_1 = 3\n",
    "score_team_2 = 1\n",
    "\n",
    "if score_team_1 < score_team_2:\n",
    "    print(\"Gano el equipo 2\")\n",
    "elif score_team_1 > score_team_2:\n",
    "    print(\"Gano el equipo 1\")\n",
    "else:\n",
    "    print(\"Fur empate\")"
   ]
  },
  {
   "cell_type": "code",
   "execution_count": 16,
   "metadata": {},
   "outputs": [
    {
     "name": "stdout",
     "output_type": "stream",
     "text": [
      "7\n",
      "10\n",
      "5\n",
      "0\n",
      "4\n",
      "3\n",
      "2\n",
      "1\n"
     ]
    }
   ],
   "source": [
    "#Iteración\n",
    "my_second_list = [7,10,5,0]\n",
    "\n",
    "for i in my_second_list:\n",
    "    print(i)\n",
    "\n",
    "my_number = 4\n",
    "\n",
    "while my_number > 0:\n",
    "    print(my_number)\n",
    "    my_number -= 1"
   ]
  },
  {
   "cell_type": "markdown",
   "metadata": {},
   "source": [
    "### Numpy"
   ]
  },
  {
   "cell_type": "code",
   "execution_count": 17,
   "metadata": {},
   "outputs": [],
   "source": [
    "import numpy as np\n",
    "#Importa Numpy"
   ]
  },
  {
   "cell_type": "code",
   "execution_count": 18,
   "metadata": {},
   "outputs": [
    {
     "data": {
      "text/plain": [
       "array([6, 7, 8, 9])"
      ]
     },
     "execution_count": 18,
     "metadata": {},
     "output_type": "execute_result"
    }
   ],
   "source": [
    "my_vector = np.array([6,7,8,9])\n",
    "my_vector"
   ]
  },
  {
   "cell_type": "code",
   "execution_count": 19,
   "metadata": {},
   "outputs": [
    {
     "data": {
      "text/plain": [
       "(4,)"
      ]
     },
     "execution_count": 19,
     "metadata": {},
     "output_type": "execute_result"
    }
   ],
   "source": [
    "my_vector.shape\n",
    "#Shape indica las dimensiones del objeto array\n",
    "#La magnitud de un vector es la raíz cuadrado de la suma de sus coordenadas elevadas al cuadrado\n",
    "#magnitud = √a^2 + y^2 + ...... + az^2"
   ]
  },
  {
   "cell_type": "code",
   "execution_count": 22,
   "metadata": {},
   "outputs": [
    {
     "name": "stdout",
     "output_type": "stream",
     "text": [
      "[[6 7]\n",
      " [8 9]]\n",
      "(2, 2)\n"
     ]
    }
   ],
   "source": [
    "my_matrix = np.array([[6,7],[8,9]])\n",
    "print(my_matrix)\n",
    "print(my_matrix.shape)\n",
    "\n",
    "#Una matriz esta conformada por un conjunto de vectores\n",
    "#Cada columna es un vector y cada fila es una observación"
   ]
  },
  {
   "cell_type": "code",
   "execution_count": null,
   "metadata": {},
   "outputs": [],
   "source": []
  }
 ],
 "metadata": {
  "kernelspec": {
   "display_name": ".venv",
   "language": "python",
   "name": "python3"
  },
  "language_info": {
   "codemirror_mode": {
    "name": "ipython",
    "version": 3
   },
   "file_extension": ".py",
   "mimetype": "text/x-python",
   "name": "python",
   "nbconvert_exporter": "python",
   "pygments_lexer": "ipython3",
   "version": "3.12.1"
  }
 },
 "nbformat": 4,
 "nbformat_minor": 2
}
