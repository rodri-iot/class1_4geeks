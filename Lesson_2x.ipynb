{
  "cells": [
    {
      "cell_type": "markdown",
      "metadata": {
        "id": "sxKCIcdgk1_N"
      },
      "source": [
        "## **Lesson 2:** A simple example of data analysis on Codespace\n",
        "Congratulations team. Our commercial team has landed a potential customer, the City of Chicago, and they want us to analyze the crime data in the city. They have provided a dataset, and they want us to showcase our skills by giving a sneak peek of what we can understand from the data. As this is our first assignment, the management want everybody to take the task and create a repository with the code for the analysis.\n",
        "\n",
        "### **Section 1:** Basic commands on the terminal\n",
        "\n",
        "To make our work reproducible, we need an isolated environment to run our scripts. In Google Colab, you get an ephemeral virtual machine (with RAM and GB), where you can create notebooks and run scripts and even terminal commands. In Codespaces, you can spin up an ephemeral virtual machine (with RAM and GB) where you can sync your files with the repository. Let's learn some basic commands."
      ]
    },
    {
      "cell_type": "code",
      "execution_count": 15,
      "metadata": {
        "id": "vYkzM0LXl5rd"
      },
      "outputs": [],
      "source": [
        "# View python version\n",
        "python --version"
      ]
    },
    {
      "cell_type": "code",
      "execution_count": 16,
      "metadata": {
        "id": "GtZcSy5kkD90"
      },
      "outputs": [],
      "source": [
        "# List installed packages\n",
        "ls"
      ]
    },
    {
      "cell_type": "code",
      "execution_count": 17,
      "metadata": {
        "id": "SKtTyegumR_V"
      },
      "outputs": [],
      "source": [
        "# View current directory\n",
        "pwd"
      ]
    },
    {
      "cell_type": "code",
      "execution_count": 18,
      "metadata": {
        "id": "uftQ3Yv-mLCY"
      },
      "outputs": [],
      "source": [
        "# View current files\n"
      ]
    },
    {
      "cell_type": "code",
      "execution_count": 19,
      "metadata": {
        "id": "1IH4APiacnWV"
      },
      "outputs": [],
      "source": [
        "# Create a file\n"
      ]
    },
    {
      "cell_type": "code",
      "execution_count": 20,
      "metadata": {
        "id": "UKISVCPMcu9S"
      },
      "outputs": [],
      "source": [
        "# Add the file and then commit into the local repo"
      ]
    },
    {
      "cell_type": "code",
      "execution_count": 21,
      "metadata": {
        "id": "K87eUci7c4RE"
      },
      "outputs": [],
      "source": [
        "# Push the file into the remote repo"
      ]
    },
    {
      "cell_type": "markdown",
      "metadata": {
        "id": "dnWi9xeenTpG"
      },
      "source": [
        "### **Section 2:** Let's dive into reading data\n",
        "\n",
        "Download the following file from this url: https://data.cityofchicago.org/api/views/qnmj-8ku6/rows.csv?accessType=DOWNLOAD\n",
        "\n",
        "It has records from the Crimes - 2001 to Present dataset for the 2014 year[1].\n",
        "\n",
        "Please, answer the following questions:\n",
        "1. How many crimes were reported in 2014?\n",
        "2. How many crimes were reported in December 2014?\n",
        "3. What are the top 5 crimes?\n",
        "4. Which day has the most and less crimes?\n",
        "5. Is there a trend in the crimes commited?"
      ]
    },
    {
      "cell_type": "code",
      "execution_count": 22,
      "metadata": {
        "id": "qFO8sTAXdvUC"
      },
      "outputs": [],
      "source": [
        "# Download the file using the terminal\n"
      ]
    },
    {
      "cell_type": "code",
      "execution_count": 23,
      "metadata": {
        "id": "TBNn-6OboNl4"
      },
      "outputs": [],
      "source": [
        "# Step 0. Load libraries and custom functions"
      ]
    },
    {
      "cell_type": "code",
      "execution_count": 24,
      "metadata": {
        "id": "KJqXT1BfopU2"
      },
      "outputs": [],
      "source": [
        "# Step 1. Read data and get a quick view\n",
        "# 1.1 Read the dataset"
      ]
    },
    {
      "cell_type": "code",
      "execution_count": 25,
      "metadata": {
        "id": "B7h16x52p3CO"
      },
      "outputs": [],
      "source": [
        "# 1.2 Get a view\n"
      ]
    },
    {
      "cell_type": "code",
      "execution_count": 26,
      "metadata": {
        "id": "RpneURMpqI_Q"
      },
      "outputs": [],
      "source": [
        "# 1.3 Get info\n"
      ]
    },
    {
      "cell_type": "code",
      "execution_count": 27,
      "metadata": {
        "id": "Qo1fhRbRtHFQ"
      },
      "outputs": [],
      "source": [
        "# 1.4 Let's make some transformations"
      ]
    },
    {
      "cell_type": "code",
      "execution_count": 28,
      "metadata": {
        "id": "8VCYPSyeu66q"
      },
      "outputs": [],
      "source": [
        "# 1.4.1 Visualize the transformations\n"
      ]
    },
    {
      "cell_type": "code",
      "execution_count": 29,
      "metadata": {
        "id": "YbKDW0kJxiwG"
      },
      "outputs": [],
      "source": [
        "# 1.5 How many single values are in our categorical variables?"
      ]
    },
    {
      "cell_type": "code",
      "execution_count": 30,
      "metadata": {
        "id": "uYHXN5FSz3bB"
      },
      "outputs": [],
      "source": [
        "# 1.6 Let's create our categorical variables"
      ]
    },
    {
      "cell_type": "markdown",
      "metadata": {
        "id": "zM2PKJNk42XD"
      },
      "source": [
        "Let's agree to a coding convention. We'll make our columns a single word, in lower case. For example our column `Case Number` will be `case_number`"
      ]
    },
    {
      "cell_type": "code",
      "execution_count": 31,
      "metadata": {
        "id": "m6eg6XHa40Xy"
      },
      "outputs": [],
      "source": [
        "# 1.7 Let's convert our columns then"
      ]
    },
    {
      "cell_type": "markdown",
      "metadata": {
        "id": "2elv7ngpw26U"
      },
      "source": [
        "Now let me bring a new concept to the table: Tidy Data.\n",
        "\n",
        "Tidy data is a standard way of mapping the meaning of a dataset to its structure. A dataset is messy or tidy depending on how rows, columns and tables are matched up with observations, variables and types. In tidy data:\n",
        "\n",
        "- Every column is a variable.\n",
        "\n",
        "- Every row is an observation.\n",
        "\n",
        "- Every cell is a single value.\n",
        "\n",
        "Tidy data makes it easy for an analyst or a computer to extract needed variables because it provides a standard way of structuring a dataset. Compare the different versions of the classroom data: in the messy version you need to use different strategies to extract different variables. This slows analysis and invites errors. If you consider how many data analysis operations involve all of the values in a variable (every aggregation function), you can see how important it is to extract these values in a simple, standard way. [2]"
      ]
    },
    {
      "cell_type": "code",
      "execution_count": 32,
      "metadata": {
        "id": "FpINqjmSw0OS"
      },
      "outputs": [],
      "source": [
        "# 1.8 Now let's tidy up our dataset"
      ]
    },
    {
      "cell_type": "code",
      "execution_count": 33,
      "metadata": {
        "id": "KGDrcxft-XiB"
      },
      "outputs": [],
      "source": [
        "# 1.8.1 Show information of our transformed dataset"
      ]
    },
    {
      "cell_type": "markdown",
      "metadata": {
        "id": "9O2c9Rdg_HmX"
      },
      "source": [
        "Now we are ready to answer questions!"
      ]
    },
    {
      "cell_type": "code",
      "execution_count": 34,
      "metadata": {
        "id": "iTcbeKAQ--wp"
      },
      "outputs": [],
      "source": [
        "# 2. Data analysis\n",
        "# 2.1 How many crimes were reported in 2014?\n",
        "\n",
        "# 2.2 How many crimes were reported in December 2014?\n",
        "\n",
        "# 2.3 What are the top 5 crimes?\n",
        "\n",
        "# 2.4 Which day has the most and less crimes?\n",
        "\n",
        "# 2.5 Is there a trend in the crimes commited?\n"
      ]
    },
    {
      "cell_type": "markdown",
      "metadata": {
        "id": "JZp5nO1QWTsM"
      },
      "source": [
        "## References\n",
        "[1] Chicago Data Portal. (August 27, 2024). *Crimes 2001-to date*, downloaded from https://data.cityofchicago.org/api/views/qnmj-8ku6/rows.csv?accessType=DOWNLOAD  \n",
        "[2] Hadley Wickham and Garrett Grolemund. (Aug 27. 2024). *R for Data Science*, downloaded from https://r4ds.had.co.nz/tidy-data.html"
      ]
    }
  ],
  "metadata": {
    "colab": {
      "provenance": []
    },
    "kernelspec": {
      "display_name": "Python 3",
      "name": "python3"
    },
    "language_info": {
      "name": "python"
    }
  },
  "nbformat": 4,
  "nbformat_minor": 0
}
